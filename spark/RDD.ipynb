{
 "cells": [
  {
   "cell_type": "markdown",
   "metadata": {},
   "source": [
    "## RDD 란?\n",
    "\n",
    "- spark에서 데이터를 다루는 가장 작은 단위의 데이터 구조.\n",
    "\n",
    "- RDD로 데이터 처리 (validation, 실행 계획, cache 등)\n",
    "\n",
    "- "
   ]
  },
  {
   "cell_type": "markdown",
   "metadata": {},
   "source": [
    "###  데이터 프레임 만들기\n"
   ]
  }
 ],
 "metadata": {
  "language_info": {
   "name": "python"
  }
 },
 "nbformat": 4,
 "nbformat_minor": 2
}
