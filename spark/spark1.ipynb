{
 "cells": [
  {
   "cell_type": "markdown",
   "metadata": {},
   "source": [
    "### spark 설치\n",
    "- wget https://dlcdn.apache.org/spark/spark-3.3.4/spark-3.3.4-bin-hadoop3.tgz\n",
    "- tar xvzf ./spark-3.3.4/spark-3.3.4-bin-hadoop3.tgz \n",
    "\n",
    "### conf 복사\n",
    "\n",
    "- /home/hadoop/spark/conf에 복사 (다운로드 폴더에 있는 파일)\n",
    "\n",
    "### path 설정\n",
    "\n",
    "- vim ~/.bashrc\n",
    "- export SPARK_HOME=/home/hadoop/spark/\n",
    "- export PATH=$PATH:$HADOOP_HOME/sbin:$HADOOP_HOME/bin:$HIVE_HOME/bin:$SPARK_HOME/bin\n",
    "\n",
    "### spark 실행\n",
    "\n",
    "- pyspark --master yarn --num-executors 3\n",
    "- 3개의 executors를 실행하겠다. pyspark 실행하는 명령어"
   ]
  },
  {
   "cell_type": "markdown",
   "metadata": {},
   "source": [
    "### 노트북에서 sql 실행 가능하게 하는 패키지\n",
    "\n",
    "- pip install ipython-sql"
   ]
  },
  {
   "cell_type": "markdown",
   "metadata": {},
   "source": []
  }
 ],
 "metadata": {
  "language_info": {
   "name": "python"
  }
 },
 "nbformat": 4,
 "nbformat_minor": 2
}
