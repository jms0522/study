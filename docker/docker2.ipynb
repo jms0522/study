{
 "cells": [
  {
   "cell_type": "markdown",
   "metadata": {},
   "source": [
    "### 도커 이미지 생성\n",
    "- docker commit -a 'encore' -m 'first commit' commit_test myimage:0.1\n",
    "\n",
    "### layer 공유 구조 (있는 것)"
   ]
  }
 ],
 "metadata": {
  "language_info": {
   "name": "python"
  }
 },
 "nbformat": 4,
 "nbformat_minor": 2
}
