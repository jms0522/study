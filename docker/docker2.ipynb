{
 "cells": [
  {
   "cell_type": "markdown",
   "metadata": {},
   "source": [
    "### 도커 이미지 생성\n",
    "- 0.1 = tag\n",
    "- docker commit -a 'encore' -m 'first commit' commit_test myimage:0.1\n",
    "\n",
    "### layer 공유 구조 (있는 것)\n",
    "\n",
    "### 객체 정보 확인\n",
    "\n",
    "- docker images\n",
    "- docker inspect [이미지 Id or name+tag(tag넣어서 만든 Name이라면)]\n",
    "\n",
    "### 이미지 삭제\n",
    "\n",
    "- docker rm $(docker ps -q -a) -> docker ps -q -a (실행중이거나 중지 중인 모든 컨테이너 id 표시)"
   ]
  },
  {
   "cell_type": "markdown",
   "metadata": {},
   "source": [
    "### 토커 이미지와 컨테이너이 차이\n",
    "\n",
    "- "
   ]
  }
 ],
 "metadata": {
  "language_info": {
   "name": "python"
  }
 },
 "nbformat": 4,
 "nbformat_minor": 2
}
