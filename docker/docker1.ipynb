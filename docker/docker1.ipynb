{
 "cells": [
  {
   "cell_type": "markdown",
   "metadata": {},
   "source": [
    "### 20240129 docker "
   ]
  },
  {
   "cell_type": "markdown",
   "metadata": {},
   "source": [
    "# docker ?\n",
    "\n",
    "- 우리가 사용하던 가상머신은 하이퍼바이저를 통해 소통하는 방식으로 컴퓨터의 최고의 성능을 이끌어내진 못함.\n",
    "- 리눅스 환경에서만 사용이 가능하고 , 하이퍼바이저가 없어도 되어 성능의 손실이 없음\n",
    "- 이미지를 만들 시 용량이 가상머신에 비해 매우 작다.\n"
   ]
  },
  {
   "cell_type": "markdown",
   "metadata": {},
   "source": [
    "### docker 설치 및 세팅\n",
    "\n",
    "- 인스턴스 접속\n",
    "- sudo curl -sSL get.docker.com | sh : 설치 스크립트를 다운로드 하고 실행\n",
    "- sudo docker run -it ubuntu:14.01 : docker를 실행하는데 (i : 상호작용이 가능한 표준 입출력 (모니터, 마우스 등)/ t : 터미널과 유사한 환경 )\n",
    "- sudo usermod -aG docker $USER : docker 그룹에 유저 추가\n"
   ]
  },
  {
   "cell_type": "code",
   "execution_count": null,
   "metadata": {
    "vscode": {
     "languageId": "plaintext"
    }
   },
   "outputs": [],
   "source": []
  },
  {
   "cell_type": "markdown",
   "metadata": {},
   "source": [
    "### 단축키\n",
    "\n",
    "#### 컨테이너를 종료하지 않고 나가기\n",
    "- ctrl + p + q\n",
    "\n",
    "#### 컨테이너 다시 들어가기\n",
    "- docker attach [container name]\n",
    "\n",
    "#### 컨데이너 정지 하기\n",
    "- docker stop [name]\n",
    "\n",
    "#### start 상태로 변경\n",
    "- docker start [name]\n",
    "\n",
    "#### 컨테이너 삭제\n",
    "- docker rm [name]\n",
    "\n",
    "#### 컨테이너 전체 삭제\n",
    "- docker rm $(docker ps -a -q)\n",
    "\n",
    "#### 모든 컨테이너의 이름 표시\n",
    "- docker ps -a -q\n",
    "- docker container prune\n",
    "\n",
    "#### 백그라운드로 실행중인 컨테이너 안에서 bash 실행하기\n",
    "- docker exec -it encoredb bash  : 여기서 'encoredb'는 우리가 설정한 db의 이름이다.\n",
    "\n",
    "#### dokcer version\n",
    "- docker -v\n",
    "\n",
    "#### 현재 실행중인 컨테이너 보기\n",
    "- docker ps\n",
    "\n",
    "#### id이름에 ce으로 시작되는 컨테이너 조회\n",
    "- docker ps -f id=ce\n",
    "\n",
    "#### 컨테이너 이름 변경\n",
    "- docker rename [name]\n",
    "\n"
   ]
  },
  {
   "cell_type": "markdown",
   "metadata": {},
   "source": [
    "## 컨테이너는 이름의 중복을 허용하지 않는다.\n",
    "\n",
    "- docker run -it --name test2 ubuntu:18.04 : name2로 중복되지 않게 생성한다.\n",
    "\n"
   ]
  },
  {
   "cell_type": "markdown",
   "metadata": {},
   "source": [
    "## 포트 바인딩 \n",
    "\n",
    "- 컨테이너를 외부에 노출시킨다.\n",
    "- p 옵션을 사용하면 컨테이너 내부와 외부를 연결해준다.\n",
    "- [host port] : [container port]\n",
    "\n",
    "## docker run -it --name myweb -p 80:80 ubuntu:14.04\n",
    "\n",
    "- 여러 개의 포트를 개방하려면 -p옵션을 여러번 사용한다\n",
    "\n",
    "- port 확인하는 방법\n",
    "\n",
    "- docker port [container name]\n",
    "\n",
    "## 파일 복사하기\n",
    "\n",
    "- docker cp [컨테이너 식별자]:[컨테이너 안의 파일 경로] [저장할 호스트 경로]\n",
    "\n",
    "- ex) docker cp webserver:/etc/nginx/nginx.conf /tmp/nginx.conf\n",
    "\n"
   ]
  }
 ],
 "metadata": {
  "language_info": {
   "name": "python"
  }
 },
 "nbformat": 4,
 "nbformat_minor": 2
}
