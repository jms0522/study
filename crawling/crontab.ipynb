{
 "cells": [
  {
   "cell_type": "markdown",
   "metadata": {},
   "source": [
    "### 네이버 주식 일본의 코드 종목을 전부 가져오고 그 코드에 대한 10년치 데이터 수집"
   ]
  },
  {
   "cell_type": "code",
   "execution_count": null,
   "metadata": {
    "vscode": {
     "languageId": "plaintext"
    }
   },
   "outputs": [],
   "source": [
    "def fetch_data(symbol):\n",
    "    url = f\"https://api.stock.naver.com/chart/foreign/item/{symbol}.T/day?startDateTime=201401150000&endDateTime=202401150000\"\n",
    "    response = requests.get(url).text\n",
    "    data = json.loads(response)\n",
    "    return symbol, pd.DataFrame(data)\n",
    "\n",
    "all_data = []\n",
    "with concurrent.futures.ThreadPoolExecutor() as executor:\n",
    "    # Submit fetch_data function for each symbol\n",
    "    futures = [executor.submit(fetch_data, symbol) for symbol in symbol_codes]\n",
    "    \n",
    "    for future in tqdm(concurrent.futures.as_completed(futures), total=len(futures), desc=\"Fetching Data\"):\n",
    "        try:\n",
    "            symbol, data_df = future.result()\n",
    "            data_df['symbol'] = symbol\n",
    "            all_data.append(data_df)\n",
    "\n",
    "            output_folder = 'Japan_new'\n",
    "            if not os.path.exists(output_folder):\n",
    "                os.makedirs(output_folder)\n",
    "            \n",
    "            csv_path = os.path.join(output_folder, f'{symbol}.csv')\n",
    "            data_df.to_csv(csv_path, index=False)\n",
    "            \n",
    "        except Exception as e:\n",
    "            print(f'{e}')\n",
    "\n",
    "combined_df = pd.concat(all_data, ignore_index=True)\n",
    "\n",
    "for df in tqdm(all_data, desc=\"Processing Data\"):\n",
    "    df['localDate'] = pd.to_datetime(df['localDate'], format='%Y%m%d')\n",
    "    df.rename(columns={\n",
    "        'closePrice': 'close',\n",
    "        'openPrice': 'open',\n",
    "        'highPrice': 'high',\n",
    "        'lowPrice': 'low',\n",
    "        'accumulatedTradingVolume': 'volume',\n",
    "        'localDate': 'date'\n",
    "    }, inplace=True)\n",
    "\n"
   ]
  },
  {
   "cell_type": "markdown",
   "metadata": {},
   "source": [
    "### - startdate로 날짜를 지정해서 데이터 양을 조절했음.\n",
    "### - 병렬 처리하는 함수를 사용하여 데이터 처리 속도를 높이려고 했음.\n",
    "### - japan_new 라는 폴더안에 데이터를 저장하고 없으면 폴더를 생성.\n",
    "### - 데이터 컬럼명을 변경해서 다른 사람과 컬럼명을 바춰 나중에 합치기 좋게 생성."
   ]
  },
  {
   "cell_type": "markdown",
   "metadata": {},
   "source": [
    "# 하루 치 데이터를 전체 종목을 가져와서 크론탭에 실행 계획 대로 실행하고 하둡에 업데이트 하는 코드\n"
   ]
  },
  {
   "cell_type": "code",
   "execution_count": null,
   "metadata": {
    "vscode": {
     "languageId": "plaintext"
    }
   },
   "outputs": [],
   "source": [
    "import os\n",
    "import pandas as pd\n",
    "import requests\n",
    "import json\n",
    "from datetime import datetime\n",
    "from tqdm import tqdm\n",
    "import subprocess\n",
    "\n",
    "HADOOP_HOME = \"/home/hadoop/hadoop\"\n",
    "HDFS_PATH = \"/stock/TYO\"\n",
    "LOCAL_DATA_PATH = \"/home/hadoop/today_update\"\n",
    "\n",
    "def fetch_japan_stocks(url):\n",
    "    all_data = []  \n",
    "\n",
    "    page = 1\n",
    "    while True:\n",
    "        payload = {\n",
    "            \"page\": str(page),\n",
    "            \"pageSize\": \"20\"\n",
    "        }\n",
    "        response = requests.get(url, params=payload)\n",
    "        if response.status_code == 200:\n",
    "            data = response.json().get('stocks', [])\n",
    "            all_data.extend(data)\n",
    "\n",
    "            if len(data) == 0:\n",
    "                break \n",
    "            else:\n",
    "                page += 1  \n",
    "        else:\n",
    "            print(f'HTTP 요청 실패: {response.status_code}')\n",
    "            break\n",
    "\n",
    "    return pd.DataFrame(all_data)\n",
    "\n",
    "def fetch_and_save_data(symbol_codes, output_folder='today_update'):\n",
    "    current_date_str = datetime.now().strftime('%Y%m%d')\n",
    "\n",
    "    if not os.path.exists(output_folder):\n",
    "        os.makedirs(output_folder)\n",
    "\n",
    "    for symbol in tqdm(symbol_codes, desc=\"Fetching Data\"):\n",
    "        url = f\"https://api.stock.naver.com/chart/foreign/item/{symbol}.T/day?startDateTime={current_date_str}0000&endDateTime={current_date_str}2359\"\n",
    "        response = requests.get(url).text\n",
    "        data = json.loads(response)\n",
    "\n",
    "        data_df = pd.DataFrame(data)\n",
    "        data_df['Symbol_Code'] = symbol\n",
    "        data_df.rename(columns={\n",
    "            'closePrice': 'close',\n",
    "            'openPrice': 'open',\n",
    "            'highPrice': 'high',\n",
    "            'lowPrice': 'low',\n",
    "            'accumulatedTradingVolume': 'volume',\n",
    "            'localDate': 'date'\n",
    "        }, inplace=True)\n",
    "\n",
    "        csv_filename = f'TYO_{current_date_str}_{symbol}.csv'\n",
    "        csv_path = os.path.join(output_folder, csv_filename)\n",
    "        data_df.to_csv(csv_path, index=False)\n",
    "\n",
    "def copy_data_to_hdfs():\n",
    "    # Hadoop fs -put 명령어 실행\n",
    "    cmd = [f\"{HADOOP_HOME}/bin/hadoop\", \"fs\", \"-put\", LOCAL_DATA_PATH, HDFS_PATH]\n",
    "\n",
    "    try:\n",
    "        subprocess.run(cmd, check=True)\n",
    "        print(\"Data copied to HDFS successfully.\")\n",
    "    except subprocess.CalledProcessError as e:\n",
    "        print(f\"Error copying data to HDFS: {e}\")\n",
    "\n",
    "def main():\n",
    "    url = \"https://api.stock.naver.com/stock/exchange/TOKYO/\"\n",
    "    japan_stocks = fetch_japan_stocks(url)\n",
    "    symbol_codes = japan_stocks['symbolCode'].tolist()\n",
    "\n",
    "    fetch_and_save_data(symbol_codes)\n",
    "    copy_data_to_hdfs()\n",
    "\n",
    "    # today_update 폴더 삭제\n",
    "    try:\n",
    "        os.rmdir(LOCAL_DATA_PATH)\n",
    "        print(\"today_update folder deleted successfully.\")\n",
    "    except OSError as e:\n",
    "        print(f\"Error deleting today_update folder: {e}\")\n",
    "\n",
    "if __name__ == \"__main__\":\n",
    "    main()\n"
   ]
  },
  {
   "cell_type": "markdown",
   "metadata": {},
   "source": [
    "# sh 실행하는 방법\n",
    "- #!bin/bash \n",
    "- source ~/.bashrc\n",
    "- python name.py \n",
    "- hdfs dfs -put 파일 경로(절대 경로) :/ 넣는 경로 \n"
   ]
  },
  {
   "cell_type": "markdown",
   "metadata": {},
   "source": [
    "crontab 에서 스케줄링 걸어놓으면 실행되어서 하둡에 잘 들어감.\n"
   ]
  },
  {
   "cell_type": "markdown",
   "metadata": {},
   "source": []
  }
 ],
 "metadata": {
  "language_info": {
   "name": "python"
  }
 },
 "nbformat": 4,
 "nbformat_minor": 2
}
