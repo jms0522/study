{
 "cells": [
  {
   "cell_type": "markdown",
   "metadata": {},
   "source": [
    "### git remote 해체\n",
    "\n",
    "- git remote remove origin\n",
    "\n",
    "- git remote add origin ssh://ubuntu@ip:/home/ubuntu/repos : ip로 깃 연결"
   ]
  }
 ],
 "metadata": {
  "language_info": {
   "name": "python"
  }
 },
 "nbformat": 4,
 "nbformat_minor": 2
}
