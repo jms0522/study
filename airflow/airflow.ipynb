{
 "cells": [
  {
   "cell_type": "markdown",
   "metadata": {},
   "source": [
    "### 데이터 파이프라인\n",
    "\n",
    "- dag을 통해 스케줄 구성\n",
    "- 이전의 작업이 완료이 완료되어야 작업 실행 ( 비순환 그래프 )\n",
    "- 비순환 속성은 태스크 간의 순환 실행을 방지하기에 매우 중요하다\n",
    "- dag은 방향성을 갖지만 비순환 그래프"
   ]
  },
  {
   "cell_type": "markdown",
   "metadata": {},
   "source": [
    "### 구성요소\n",
    "\n",
    " - 스케줄러 : DAG 분석, 워커에 DAG 테스크 예약  \n",
    " - 워커 :\n",
    " - 웹서버 : "
   ]
  }
 ],
 "metadata": {
  "language_info": {
   "name": "python"
  }
 },
 "nbformat": 4,
 "nbformat_minor": 2
}
