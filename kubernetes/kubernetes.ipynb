{
 "cells": [
  {
   "cell_type": "markdown",
   "metadata": {},
   "source": [
    "### 20240201\n",
    "\n"
   ]
  },
  {
   "cell_type": "markdown",
   "metadata": {},
   "source": [
    "### 20240202"
   ]
  },
  {
   "cell_type": "markdown",
   "metadata": {},
   "source": [
    "- kubectl get nodes : 클러스터 내의 node 목록 확인\n",
    "- kubectl get pods --all-namespaces : 네임 스페이스에서 실행중인 Pods 조회\n",
    "- kubectl get pods -o wide : 클러스터에서 실행중인 모든 pods를 출력\n",
    "- aws sts get-caller-identity : IAM 권한을 확인"
   ]
  }
 ],
 "metadata": {
  "language_info": {
   "name": "python"
  }
 },
 "nbformat": 4,
 "nbformat_minor": 2
}
