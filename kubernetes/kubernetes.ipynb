{
 "cells": [
  {
   "cell_type": "markdown",
   "metadata": {},
   "source": [
    "### 20240201\n",
    "\n",
    "\n"
   ]
  },
  {
   "cell_type": "markdown",
   "metadata": {},
   "source": [
    "### 설치 및 환경 세팅\n",
    "- docker를 사용하지 않고 calico를 사용해서 세팅함.\n",
    "\n",
    "1. #### k8s 다운로드 받을 수 있는 repository 설정 \n",
    "- export OS=xUbuntu_22.04  \n",
    "- export CRIO_VERSION=1.26\n",
    "\n",
    "2. 설치 \n",
    "\n",
    "echo \"deb https://download.opensuse.org/repositories/devel:/kubic:/libcontainers:/stable/$OS/ /\"| sudo tee /etc/apt/sources.list.d/devel:kubic:libcontainers:stable.list\n",
    "echo \"deb http://download.opensuse.org/repositories/devel:/kubic:/libcontainers:/stable:/cri-o:/$CRIO_VERSION/$OS/ /\"|sudo tee /etc/apt/sources.list.d/devel:kubic:libcontainers:stable:cri-o:$CRIO_VERSION.list\n",
    "\n",
    "curl -L https://download.opensuse.org/repositories/devel:kubic:libcontainers:stable:cri-o:$CRIO_VERSION/$OS/Release.key | sudo apt-key add -\n",
    "curl -L https://download.opensuse.org/repositories/devel:/kubic:/libcontainers:/stable/$OS/Release.key | sudo apt-key add -\n",
    "\n"
   ]
  },
  {
   "cell_type": "markdown",
   "metadata": {},
   "source": [
    "### 20240202"
   ]
  },
  {
   "cell_type": "markdown",
   "metadata": {},
   "source": [
    "### 기본적인 명령어 \n",
    "- kubectl get nodes : 클러스터 내의 node 목록 확인\n",
    "- kubectl get pods --all-namespaces : 네임 스페이스에서 실행중인 Pods 조회\n",
    "- kubectl get pods -o wide : 클러스터에서 실행중인 모든 pods를 출력\n",
    "- aws sts get-caller-identity : IAM 권한을 확인"
   ]
  },
  {
   "cell_type": "markdown",
   "metadata": {},
   "source": [
    "### Replica set\n",
    "\n",
    "- pod의 개수를 유지하도록 함.\n",
    "- 파드를 보충하거나 삭제 시킨다.\n",
    "\n",
    "### Deployment\n",
    "\n",
    "- 파드를 배포하는 관리하는 요소.\n",
    "- 파드가 사용하는 이미지 등 파드에 대한 정보를 갖고있음. (파드의 배포에 대한 정보를 관리)\n",
    "- 지워도 살아남 (그냥 만드면 delete로 지워진다)\n",
    "\n",
    "### 클러스터 ip (서비스)\n",
    "\n",
    "- 파드에 대한 요청을 관리한다.\n",
    "\n",
    "### 네임스페이스\n",
    "\n",
    "- 리소스를 구분해서 관리\n",
    "- 생성하면 해쉬값의 이름\n",
    "\n",
    "\n",
    "### replica -> update 할 때 rolling update\n",
    "- 서비스가 장애없이 업데이트 되도록 하나씩 내려서 업데이트 한 뒤 올린다. 순차적으로"
   ]
  },
  {
   "cell_type": "markdown",
   "metadata": {},
   "source": [
    "### rol"
   ]
  },
  {
   "cell_type": "markdown",
   "metadata": {},
   "source": [
    "### eks 종료 \n",
    "eksctl delete cluster --name k8s-ms\n",
    "\n",
    "- (종료가 안 될 시)\n",
    "- ubuntu@ip-172-31-0-12:~$ aws cloudformation delete-stack --stack-name eksctl-k8s-ms-nodegroup-ng-b3adad20\n",
    "- ubuntu@ip-172-31-0-12:~$ aws cloudformation wait stack-delete-complete --stack-name eksctl-k8s-ms-nodegroup-ng-b3adad20"
   ]
  }
 ],
 "metadata": {
  "language_info": {
   "name": "python"
  }
 },
 "nbformat": 4,
 "nbformat_minor": 2
}
